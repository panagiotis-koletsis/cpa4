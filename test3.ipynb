{
 "cells": [
  {
   "cell_type": "code",
   "execution_count": 1,
   "metadata": {},
   "outputs": [],
   "source": [
    "import pandas as pd\n",
    "\n",
    "# Read CSV file\n",
    "gt = pd.read_csv('/home/kpanag/Desktop/cpa3/cpa/Round1-SOTAB-CPA-Datasets/random.csv')\n",
    "gt[\"labelcol\"] = \"DefaultValue\""
   ]
  },
  {
   "cell_type": "code",
   "execution_count": 3,
   "metadata": {},
   "outputs": [],
   "source": [
    "PROMPT_CTA = \"\"\"\n",
    " ----\n",
    "    Knowing that this table is about {domain}\n",
    "    ----\n",
    "    {table}\n",
    "    ----\n",
    "    On the provided table i want you to answer this question: \n",
    "    What is the label of column {num}\n",
    "    ----\n",
    "    ***All the possible relations are in this list {relations}.\n",
    "    Provide only the desired output (1 word) and nothing more! Dont explain yourself and dont provide extra comments! \n",
    "\"\"\" "
   ]
  },
  {
   "cell_type": "code",
   "execution_count": 4,
   "metadata": {},
   "outputs": [
    {
     "name": "stdout",
     "output_type": "stream",
     "text": [
      "['Number', 'Date', 'Book/name', 'BookFormatType', 'Person/name', 'Language', 'IdentifierAT', 'Review', 'ItemAvailability', 'OfferItemCondition', 'price', 'Event/name', 'priceRange', 'Place/name', 'telephone', 'URL', 'currency', 'category', 'EventAttendanceModeEnumeration', 'EventStatusType', 'email', 'Duration', 'Country', 'openingHours', 'faxNumber', 'LocalBusiness/name', 'streetAddress', 'addressLocality', 'addressRegion', 'postalCode', 'Photograph', 'Movie/name', 'Rating', 'MusicRecording/name', 'MusicAlbum/name', 'MusicArtistAT', 'GenderType', 'Product/name', 'weight', 'DeliveryMethod']\n"
     ]
    }
   ],
   "source": [
    "# Open and read the text file\n",
    "with open(\"/home/kpanag/Desktop/cpa3/cta/Round1-SOTAB-CTA-Datasets/cta_labels_round1.txt\", \"r\") as file:\n",
    "    labels = file.read().splitlines()  # Read lines and remove newline characters\n",
    "\n",
    "# Print the list\n",
    "print(labels)\n"
   ]
  },
  {
   "cell_type": "code",
   "execution_count": null,
   "metadata": {},
   "outputs": [],
   "source": [
    "#These needs to be changed\n",
    "DATASET_PATH = '/home/kpanag/Desktop/cpa3/cpa/Round1-SOTAB-CPA-SCH-Tables/'  \n",
    "#GT_PATH = '/home/kpanag/Desktop/cpa3/cpa/Round1-SOTAB-CPA-Datasets/sotab_cpa_validation_round1.csv'\n",
    "#RELATIONS_FILE = '/home/kpanag/Desktop/cpa3/cpa/Round1-SOTAB-CPA-Datasets/cpa_labels_round1.txt'\n",
    "GT_PATH = '/home/kpanag/Desktop/cpa3/cpa/Round1-SOTAB-CPA-Datasets/random.csv'\n",
    "#GT_PATH = '/home/kpanag/Desktop/cpa3/cpa/Round1-SOTAB-CPA-Datasets/sotab_cpa_test_round1.csv'\n",
    "def read_datasets():\n",
    "    gt = read_gt()\n",
    "    # Get distinct table_name values\n",
    "    distinct_values = gt['table_name'].unique()\n",
    "    #print(distinct_values)\n",
    "    \n",
    "    # Folder path where the files are stored\n",
    "    folder_path = DATASET_PATH\n",
    "    \n",
    "    df = []\n",
    "\n",
    "    # Loop over the distinct values and try to read the corresponding files\n",
    "    for table_name in distinct_values:\n",
    "        path = folder_path+table_name\n",
    "        table_df = pd.read_json(path, compression='gzip', lines=True)\n",
    "        df.append(table_df)\n",
    "    #len(df)\n",
    "    return df, distinct_values\n",
    "\n",
    "def read_gt():\n",
    "    file_path = GT_PATH\n",
    "    gt = pd.read_csv(file_path)\n",
    "\n",
    "    #sort approprietely \n",
    "    gt['table_name'] = pd.Categorical(gt['table_name'], categories=gt['table_name'].unique(), ordered=True)\n",
    "    gt_sorted = gt.sort_values(by=['table_name', 'column_index'])\n",
    "    gt = gt_sorted\n",
    "    #print(gt)\n",
    "\n",
    "    return gt"
   ]
  },
  {
   "cell_type": "code",
   "execution_count": 6,
   "metadata": {},
   "outputs": [
    {
     "data": {
      "text/plain": [
       "16"
      ]
     },
     "execution_count": 6,
     "metadata": {},
     "output_type": "execute_result"
    }
   ],
   "source": [
    "\n",
    "dataframes, fn = read_datasets()\n",
    "index = dict(zip(fn, dataframes))\n",
    "len(index)"
   ]
  },
  {
   "cell_type": "code",
   "execution_count": null,
   "metadata": {},
   "outputs": [
    {
     "name": "stdout",
     "output_type": "stream",
     "text": [
      "Person/name\n",
      "BookFormatType\n",
      "Date\n",
      "Number\n",
      "Language\n",
      "IdentifierAT\n",
      "Rating\n",
      "Language\n",
      "currency\n",
      "BookFormatType\n",
      "Person/name\n",
      "IdentifierAT\n",
      "Publisher/name\n",
      "ItemAvailability\n",
      "price\n",
      "OfferItemCondition\n",
      "Date\n",
      "Date\n",
      "Event/name\n",
      "EventAttendanceModeEnumeration\n",
      "EventAttendanceModeEnumeration\n",
      "EventStatusType\n",
      "currency\n",
      "priceRange\n",
      "Date\n",
      "EventStatusType\n",
      "category\n",
      "Date\n",
      "Date\n",
      "EventStatusType\n",
      "EventAttendanceModeEnumeration\n",
      "EventAttendanceModeEnumeration\n",
      "telephone\n",
      "telephone\n",
      "telephone\n",
      "telephone\n",
      "URL\n",
      "Rating\n",
      "addressRegion\n",
      "addressLocality\n",
      "Country\n",
      "postalCode\n",
      "URL\n",
      "URL\n",
      "Rating\n",
      "Rating\n",
      "Rating\n",
      "Date\n",
      "Movie/name\n",
      "Movie/name\n",
      "Rating\n",
      "Movie/name\n",
      "Person/name\n",
      "Rating\n",
      "Movie/name\n",
      "Movie/name\n",
      "Duration\n",
      "URL\n",
      "Person/name\n",
      "Date\n",
      "Rating\n",
      "Rating\n",
      "Duration\n",
      "Person/name\n",
      "MusicRecording/name\n",
      "Duration\n",
      "MusicAlbum/name\n",
      "MusicArtistAT\n",
      "Country\n",
      "Person/name\n",
      "Date\n",
      "Country\n",
      "Person/name\n",
      "URL\n",
      "GenderType\n",
      "Person/name\n",
      "Product/name\n",
      "Review\n",
      "OfferItemCondition\n",
      "Product/name\n",
      "OfferItemCondition\n",
      "currency\n",
      "ItemAvailability\n",
      "priceRange\n",
      "priceRange\n",
      "weight\n"
     ]
    }
   ],
   "source": [
    "from langchain_core.prompts import ChatPromptTemplate\n",
    "from langchain_ollama.llms import OllamaLLM\n",
    "model = \"qwen2.5:32b-instruct-q3_K_L\"\n",
    "cta_gt = gt \n",
    "\n",
    "for i in range(len(gt)):    \n",
    "    table_name = gt['table_name'][i]\n",
    "    domain = table_name.split('_')[0]\n",
    "    num =  gt['column_index'][i]\n",
    "    table = index[table_name]\n",
    "    table = table.to_json(orient=\"records\")\n",
    "    prompt_template = ChatPromptTemplate.from_template(PROMPT_CTA)\n",
    "    prompt = prompt_template.format(domain=domain,num=num,table=table,relations=labels)\n",
    "    #print(prompt)\n",
    "    llm = OllamaLLM(model=model)\n",
    "    res = f\"\"\"{llm.invoke(prompt)}\"\"\"\n",
    "    #print(res)\n",
    "    cta_gt.loc[i, 'labelcol'] = res\n",
    "\n",
    "    res = res.replace(\" \", \"\")"
   ]
  },
  {
   "cell_type": "code",
   "execution_count": 8,
   "metadata": {},
   "outputs": [],
   "source": [
    "def llm_csv(gt):\n",
    "    # Specify the file name\n",
    "    filename = 'data/llm1.csv'\n",
    "    # Writing to a CSV file\n",
    "    #gt['label'] = 'test'\n",
    "    \n",
    "    #print(gt)\n",
    "    #need to change the llm output\n",
    "    gt.to_csv(filename, index=False)"
   ]
  },
  {
   "cell_type": "code",
   "execution_count": 9,
   "metadata": {},
   "outputs": [],
   "source": [
    "llm_csv(cta_gt)"
   ]
  },
  {
   "cell_type": "code",
   "execution_count": null,
   "metadata": {},
   "outputs": [],
   "source": []
  },
  {
   "cell_type": "code",
   "execution_count": 57,
   "metadata": {},
   "outputs": [
    {
     "data": {
      "text/html": [
       "<div>\n",
       "<style scoped>\n",
       "    .dataframe tbody tr th:only-of-type {\n",
       "        vertical-align: middle;\n",
       "    }\n",
       "\n",
       "    .dataframe tbody tr th {\n",
       "        vertical-align: top;\n",
       "    }\n",
       "\n",
       "    .dataframe thead th {\n",
       "        text-align: right;\n",
       "    }\n",
       "</style>\n",
       "<table border=\"1\" class=\"dataframe\">\n",
       "  <thead>\n",
       "    <tr style=\"text-align: right;\">\n",
       "      <th></th>\n",
       "      <th>table_name</th>\n",
       "      <th>main_column_index</th>\n",
       "      <th>column_index</th>\n",
       "      <th>label</th>\n",
       "      <th>labelcol</th>\n",
       "    </tr>\n",
       "  </thead>\n",
       "  <tbody>\n",
       "    <tr>\n",
       "      <th>0</th>\n",
       "      <td>Book_1carpetcleaning.co.uk_September2020_CPA.j...</td>\n",
       "      <td>0</td>\n",
       "      <td>7</td>\n",
       "      <td>author</td>\n",
       "      <td>DefaultValue</td>\n",
       "    </tr>\n",
       "    <tr>\n",
       "      <th>1</th>\n",
       "      <td>Book_1carpetcleaning.co.uk_September2020_CPA.j...</td>\n",
       "      <td>0</td>\n",
       "      <td>2</td>\n",
       "      <td>bookFormat</td>\n",
       "      <td>DefaultValue</td>\n",
       "    </tr>\n",
       "    <tr>\n",
       "      <th>2</th>\n",
       "      <td>Book_1carpetcleaning.co.uk_September2020_CPA.j...</td>\n",
       "      <td>0</td>\n",
       "      <td>3</td>\n",
       "      <td>datePublished</td>\n",
       "      <td>DefaultValue</td>\n",
       "    </tr>\n",
       "    <tr>\n",
       "      <th>3</th>\n",
       "      <td>Book_1carpetcleaning.co.uk_September2020_CPA.j...</td>\n",
       "      <td>0</td>\n",
       "      <td>4</td>\n",
       "      <td>numberOfPages</td>\n",
       "      <td>DefaultValue</td>\n",
       "    </tr>\n",
       "    <tr>\n",
       "      <th>4</th>\n",
       "      <td>Book_1carpetcleaning.co.uk_September2020_CPA.j...</td>\n",
       "      <td>0</td>\n",
       "      <td>5</td>\n",
       "      <td>inLanguage</td>\n",
       "      <td>DefaultValue</td>\n",
       "    </tr>\n",
       "    <tr>\n",
       "      <th>...</th>\n",
       "      <td>...</td>\n",
       "      <td>...</td>\n",
       "      <td>...</td>\n",
       "      <td>...</td>\n",
       "      <td>...</td>\n",
       "    </tr>\n",
       "    <tr>\n",
       "      <th>81</th>\n",
       "      <td>Product_earpeace.com_September2020_CPA.json.gz</td>\n",
       "      <td>0</td>\n",
       "      <td>4</td>\n",
       "      <td>priceCurrency</td>\n",
       "      <td>DefaultValue</td>\n",
       "    </tr>\n",
       "    <tr>\n",
       "      <th>82</th>\n",
       "      <td>Product_earpeace.com_September2020_CPA.json.gz</td>\n",
       "      <td>0</td>\n",
       "      <td>6</td>\n",
       "      <td>availability</td>\n",
       "      <td>DefaultValue</td>\n",
       "    </tr>\n",
       "    <tr>\n",
       "      <th>83</th>\n",
       "      <td>Product_earpeace.com_September2020_CPA.json.gz</td>\n",
       "      <td>0</td>\n",
       "      <td>8</td>\n",
       "      <td>ratingValue</td>\n",
       "      <td>DefaultValue</td>\n",
       "    </tr>\n",
       "    <tr>\n",
       "      <th>84</th>\n",
       "      <td>Product_earpeace.com_September2020_CPA.json.gz</td>\n",
       "      <td>0</td>\n",
       "      <td>9</td>\n",
       "      <td>price</td>\n",
       "      <td>DefaultValue</td>\n",
       "    </tr>\n",
       "    <tr>\n",
       "      <th>85</th>\n",
       "      <td>Product_earpeace.com_September2020_CPA.json.gz</td>\n",
       "      <td>0</td>\n",
       "      <td>11</td>\n",
       "      <td>weight</td>\n",
       "      <td>DefaultValue</td>\n",
       "    </tr>\n",
       "  </tbody>\n",
       "</table>\n",
       "<p>86 rows × 5 columns</p>\n",
       "</div>"
      ],
      "text/plain": [
       "                                           table_name  main_column_index  \\\n",
       "0   Book_1carpetcleaning.co.uk_September2020_CPA.j...                  0   \n",
       "1   Book_1carpetcleaning.co.uk_September2020_CPA.j...                  0   \n",
       "2   Book_1carpetcleaning.co.uk_September2020_CPA.j...                  0   \n",
       "3   Book_1carpetcleaning.co.uk_September2020_CPA.j...                  0   \n",
       "4   Book_1carpetcleaning.co.uk_September2020_CPA.j...                  0   \n",
       "..                                                ...                ...   \n",
       "81     Product_earpeace.com_September2020_CPA.json.gz                  0   \n",
       "82     Product_earpeace.com_September2020_CPA.json.gz                  0   \n",
       "83     Product_earpeace.com_September2020_CPA.json.gz                  0   \n",
       "84     Product_earpeace.com_September2020_CPA.json.gz                  0   \n",
       "85     Product_earpeace.com_September2020_CPA.json.gz                  0   \n",
       "\n",
       "    column_index          label      labelcol  \n",
       "0              7         author  DefaultValue  \n",
       "1              2     bookFormat  DefaultValue  \n",
       "2              3  datePublished  DefaultValue  \n",
       "3              4  numberOfPages  DefaultValue  \n",
       "4              5     inLanguage  DefaultValue  \n",
       "..           ...            ...           ...  \n",
       "81             4  priceCurrency  DefaultValue  \n",
       "82             6   availability  DefaultValue  \n",
       "83             8    ratingValue  DefaultValue  \n",
       "84             9          price  DefaultValue  \n",
       "85            11         weight  DefaultValue  \n",
       "\n",
       "[86 rows x 5 columns]"
      ]
     },
     "execution_count": 57,
     "metadata": {},
     "output_type": "execute_result"
    }
   ],
   "source": [
    "gt"
   ]
  },
  {
   "cell_type": "code",
   "execution_count": 1,
   "metadata": {},
   "outputs": [],
   "source": [
    "GT_PATH = '/home/kpanag/Desktop/cpa3/cpa/Round1-SOTAB-CPA-Datasets/sotab_cpa_test_round1.csv'\n",
    "GT_PATH1 = '/home/kpanag/Desktop/cpa3/cpa/Round1-SOTAB-CPA-Datasets/sotab_cpa_train_round1.csv'\n",
    "GT_PATH2 = '/home/kpanag/Desktop/cpa3/cpa/Round1-SOTAB-CPA-Datasets/sotab_cpa_validation_round1.csv'"
   ]
  },
  {
   "cell_type": "code",
   "execution_count": 7,
   "metadata": {},
   "outputs": [
    {
     "name": "stdout",
     "output_type": "stream",
     "text": [
      "Number of distinct table names: 170\n"
     ]
    }
   ],
   "source": [
    "import pandas as pd\n",
    "\n",
    "# Define the file path\n",
    "GT_PATH = \"/home/kpanag/Desktop/cpa3/cpa/Round1-SOTAB-CPA-Datasets/sotab_cpa_test_round1.csv\"\n",
    "\n",
    "# Read the CSV file\n",
    "df = pd.read_csv(GT_PATH)\n",
    "\n",
    "# Get the number of distinct values in the first column\n",
    "num_distinct_table_names = df.iloc[:, 0].nunique()\n",
    "\n",
    "# Print the count\n",
    "print(\"Number of distinct table names:\", num_distinct_table_names)\n"
   ]
  },
  {
   "cell_type": "code",
   "execution_count": null,
   "metadata": {},
   "outputs": [],
   "source": []
  },
  {
   "cell_type": "code",
   "execution_count": null,
   "metadata": {},
   "outputs": [],
   "source": []
  },
  {
   "cell_type": "code",
   "execution_count": null,
   "metadata": {},
   "outputs": [],
   "source": []
  },
  {
   "cell_type": "code",
   "execution_count": null,
   "metadata": {},
   "outputs": [],
   "source": []
  },
  {
   "cell_type": "code",
   "execution_count": 14,
   "metadata": {},
   "outputs": [
    {
     "name": "stdout",
     "output_type": "stream",
     "text": [
      "True\n"
     ]
    }
   ],
   "source": [
    "from urllib.parse import urlparse\n",
    "\n",
    "string = \"https://www.google1.com/\"\n",
    "parsed = urlparse(string)\n",
    "is_url = all([parsed.scheme, parsed.netloc])\n",
    "print(is_url)\n"
   ]
  },
  {
   "cell_type": "code",
   "execution_count": 3,
   "metadata": {},
   "outputs": [
    {
     "data": {
      "text/plain": [
       "False"
      ]
     },
     "execution_count": 3,
     "metadata": {},
     "output_type": "execute_result"
    }
   ],
   "source": [
    "s = \"1-23\"\n",
    "is_number = s.isdigit()\n",
    "is_number\n"
   ]
  },
  {
   "cell_type": "code",
   "execution_count": null,
   "metadata": {},
   "outputs": [],
   "source": [
    "url = \"https://schema.org/EventStatus\"\n",
    "if \"https://schema.org/\" in url:\n",
    "    print(\"yes\")"
   ]
  },
  {
   "cell_type": "code",
   "execution_count": null,
   "metadata": {},
   "outputs": [],
   "source": []
  }
 ],
 "metadata": {
  "kernelspec": {
   "display_name": "cpa",
   "language": "python",
   "name": "python3"
  },
  "language_info": {
   "codemirror_mode": {
    "name": "ipython",
    "version": 3
   },
   "file_extension": ".py",
   "mimetype": "text/x-python",
   "name": "python",
   "nbconvert_exporter": "python",
   "pygments_lexer": "ipython3",
   "version": "3.13.0"
  }
 },
 "nbformat": 4,
 "nbformat_minor": 2
}
