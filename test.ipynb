{
 "cells": [
  {
   "cell_type": "code",
   "execution_count": 3,
   "metadata": {},
   "outputs": [
    {
     "name": "stdout",
     "output_type": "stream",
     "text": [
      "---res The relation between column 0 and column 1 is **author**.\n"
     ]
    }
   ],
   "source": [
    "from langchain_ollama.llms import OllamaLLM\n",
    "import re\n",
    "\n",
    "PROMPT_TEMPLATE = \"\"\"\"\n",
    "{\"0\":\"Unlimited [Historical Fiction Book] \\u21a0 The Odyssey, Book 1-12 - by Homer William Bedell Stanford W. Stanford \\u21a0\",\"1\":\"Homer William Bedell Stanford W. Stanford\",\"2\":\"Paperback\",\"3\":\"2020-06-27T15:00:54+00:00\",\"4\":418,\"5\":\"English\",\"6\":\"9781853995026\",\"7\":\"Homer William Bedell Stanford W. Stanford\",\"8\":171,\"9\":4.1}\n",
    "{\"0\":\"\\u21a0 The Bridge to Never Land || \\u2606 PDF Read by \\u2606 Dave Barry Ridley Pearson\",\"1\":\"Dave Barry Ridley Pearson\",\"2\":\"Hardcover\",\"3\":\"2020-06-01T00:07:00+00:00\",\"4\":309,\"5\":\"English\",\"6\":\"9781423138655\",\"7\":\"Dave Barry Ridley Pearson\",\"8\":892,\"9\":3.5}\n",
    "{\"0\":\"\\u00e0 DragonFire || \\u2713 PDF Download by \\u21a0 Donita K. Paul\",\"1\":\"Donita K. Paul\",\"2\":\"Paperback\",\"3\":\"2020-06-09T09:23:17+00:00\",\"4\":139,\"5\":\"English\",\"6\":\"9781400072514\",\"7\":\"Donita K. Paul\",\"8\":480,\"9\":4.7}\n",
    "\n",
    "all the possible relations are: inLanguage, bookFormat, numberOfPages, isbn, image, bestRating, priceCurrency, price, description, author, availability, publisher, datePublished, ratingValue, genre, itemCondition, url, startDate, validFrom, location, endDate, validThrough, category, telephone, email, organizer, eventStatus, eventAttendanceMode, duration, priceRange, addressCountry, streetAddress, postalCode, addressLocality, addressRegion, faxNumber, review, worstRating, dateCreated, director, actor, contentRating, byArtist, inAlbum, jobTitle, nationality, gender, birthDate, weight, releaseDate\n",
    "\n",
    "What is the relation between the col 0 and col 1.as_integer_ration.\n",
    "Provide only the relation and nothing more\n",
    "\n",
    "\"\"\"\n",
    "#'qwen2.5:14b'\n",
    "model1 = 'deepseek-r1:14b'\n",
    "llm = OllamaLLM(model=model1)\n",
    "res = f\"\"\"{llm.invoke(PROMPT_TEMPLATE)}\"\"\"\n",
    "res = re.sub(r\"<think>.*?</think>\\s*\", \"\", res, flags=re.DOTALL)\n",
    "print(\"---res\",res)"
   ]
  },
  {
   "cell_type": "code",
   "execution_count": null,
   "metadata": {},
   "outputs": [],
   "source": []
  },
  {
   "cell_type": "code",
   "execution_count": null,
   "metadata": {},
   "outputs": [],
   "source": []
  },
  {
   "cell_type": "code",
   "execution_count": null,
   "metadata": {},
   "outputs": [],
   "source": []
  },
  {
   "cell_type": "code",
   "execution_count": null,
   "metadata": {},
   "outputs": [],
   "source": []
  },
  {
   "cell_type": "code",
   "execution_count": null,
   "metadata": {},
   "outputs": [],
   "source": []
  },
  {
   "cell_type": "code",
   "execution_count": null,
   "metadata": {},
   "outputs": [],
   "source": []
  },
  {
   "cell_type": "code",
   "execution_count": null,
   "metadata": {},
   "outputs": [],
   "source": []
  },
  {
   "cell_type": "code",
   "execution_count": null,
   "metadata": {},
   "outputs": [],
   "source": []
  }
 ],
 "metadata": {
  "kernelspec": {
   "display_name": "cpa",
   "language": "python",
   "name": "python3"
  },
  "language_info": {
   "codemirror_mode": {
    "name": "ipython",
    "version": 3
   },
   "file_extension": ".py",
   "mimetype": "text/x-python",
   "name": "python",
   "nbconvert_exporter": "python",
   "pygments_lexer": "ipython3",
   "version": "3.13.0"
  }
 },
 "nbformat": 4,
 "nbformat_minor": 2
}
